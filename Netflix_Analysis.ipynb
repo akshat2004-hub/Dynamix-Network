{
 "cells": [
  {
   "cell_type": "markdown",
   "id": "60354d16",
   "metadata": {},
   "source": [
    "# Netflix Movies & TV Shows Analysis\n",
    "\n",
    "**Dataset file expected:** `netflix_titles.csv`\n",
    "\n",
    "**Tasks covered:** Data cleaning, EDA, visualizations, and advanced analysis ideas.\n"
   ]
  },
  {
   "cell_type": "code",
   "execution_count": null,
   "id": "c92e24ad",
   "metadata": {},
   "outputs": [],
   "source": [
    "# Standard imports\n",
    "import pandas as pd\n",
    "import numpy as np\n",
    "import matplotlib.pyplot as plt\n",
    "from sklearn.feature_extraction.text import CountVectorizer\n",
    "\n",
    "# Display settings\n",
    "pd.set_option('display.max_columns', 50)\n",
    "pd.set_option('display.max_rows', 100)\n"
   ]
  },
  {
   "cell_type": "code",
   "execution_count": null,
   "id": "df3ac672",
   "metadata": {},
   "outputs": [],
   "source": [
    "# Load dataset (place netflix_titles.csv in the same folder)\n",
    "fn = \"netflix_titles.csv\"\n",
    "try:\n",
    "    df = pd.read_csv(fn)\n",
    "    print(\"Loaded:\", fn, \" — shape:\", df.shape)\n",
    "    display(df.head())\n",
    "except FileNotFoundError:\n",
    "    print(\"File not found. Please upload 'netflix_titles.csv' to the working directory.\")\n"
   ]
  },
  {
   "cell_type": "markdown",
   "id": "344a77f8",
   "metadata": {},
   "source": [
    "## 1) Data Cleaning\n",
    "- Inspect missing values\n",
    "- Fix datatypes\n",
    "- Split multi-valued columns (e.g., `country`, `cast`, `listed_in`) into lists for analysis\n"
   ]
  },
  {
   "cell_type": "code",
   "execution_count": null,
   "id": "204a8403",
   "metadata": {},
   "outputs": [],
   "source": [
    "# Basic cleaning steps\n",
    "def basic_clean(df):\n",
    "    df = df.copy()\n",
    "    # Standardize column names\n",
    "    df.columns = [c.strip() for c in df.columns]\n",
    "    # Convert date_added to datetime if present\n",
    "    if 'date_added' in df.columns:\n",
    "        df['date_added'] = pd.to_datetime(df['date_added'], errors='coerce')\n",
    "        df['year_added'] = df['date_added'].dt.year\n",
    "    # Extract release year if 'release_year' exists (it should)\n",
    "    if 'release_year' in df.columns:\n",
    "        df['release_year'] = pd.to_numeric(df['release_year'], errors='coerce').astype('Int64')\n",
    "    # Fill missing descriptions with empty string\n",
    "    if 'description' in df.columns:\n",
    "        df['description'] = df['description'].fillna('')\n",
    "    return df\n",
    "\n",
    "if 'df' in globals():\n",
    "    df = basic_clean(df)\n",
    "    display(df.info())\n",
    "    display(df.isnull().sum())\n"
   ]
  },
  {
   "cell_type": "markdown",
   "id": "fa33a863",
   "metadata": {},
   "source": [
    "## 2) Exploratory Data Analysis (EDA)\n",
    "- Distribution of content types (Movie vs TV Show)\n",
    "- Top genres\n",
    "- Release year trends\n",
    "- Country distribution\n"
   ]
  },
  {
   "cell_type": "code",
   "execution_count": null,
   "id": "0310e235",
   "metadata": {},
   "outputs": [],
   "source": [
    "if 'df' in globals():\n",
    "    # Content type counts\n",
    "    if 'type' in df.columns:\n",
    "        print(df['type'].value_counts())\n",
    "        df['type'].value_counts().plot(kind='bar')\n",
    "        plt.title('Content Type Counts')\n",
    "        plt.xlabel('Type')\n",
    "        plt.ylabel('Count')\n",
    "        plt.tight_layout()\n",
    "        plt.show()\n"
   ]
  },
  {
   "cell_type": "code",
   "execution_count": null,
   "id": "40929dbd",
   "metadata": {},
   "outputs": [],
   "source": [
    "# Top genres (listed_in column)\n",
    "if 'df' in globals() and 'listed_in' in df.columns:\n",
    "    # explode genres\n",
    "    s = df['listed_in'].dropna().str.split(',').apply(lambda x: [t.strip() for t in x])\n",
    "    all_genres = pd.Series([g for sub in s for g in sub])\n",
    "    top_genres = all_genres.value_counts().head(20)\n",
    "    display(top_genres)\n",
    "    top_genres.head(10).plot(kind='bar')\n",
    "    plt.title('Top Genres')\n",
    "    plt.tight_layout()\n",
    "    plt.show()\n"
   ]
  },
  {
   "cell_type": "markdown",
   "id": "d2a306ac",
   "metadata": {},
   "source": [
    "## 3) Advanced Analysis Ideas\n",
    "- Trends over time (content added per year)\n",
    "- Popular directors/actors\n",
    "- Regional preferences (country-level)\n",
    "- Recommendation baseline using content-based similarity on descriptions or genres\n"
   ]
  },
  {
   "cell_type": "code",
   "execution_count": null,
   "id": "d3a07de3",
   "metadata": {},
   "outputs": [],
   "source": [
    "# Example: Content added per year (if date_added available)\n",
    "if 'df' in globals() and 'year_added' in df.columns:\n",
    "    yearly = df.groupby('year_added').size().sort_index()\n",
    "    display(yearly.tail(15))\n",
    "    yearly.plot()\n",
    "    plt.title('Content Added Per Year')\n",
    "    plt.xlabel('Year Added')\n",
    "    plt.ylabel('Count')\n",
    "    plt.tight_layout()\n",
    "    plt.show()\n"
   ]
  },
  {
   "cell_type": "code",
   "execution_count": null,
   "id": "95b149d1",
   "metadata": {},
   "outputs": [],
   "source": [
    "# Simple content-based recommendation skeleton using descriptions\n",
    "if 'df' in globals() and 'description' in df.columns:\n",
    "    sample = df[['show_id','title','description']].dropna(subset=['description']).reset_index(drop=True).head(2000)\n",
    "    vect = CountVectorizer(max_features=2000, stop_words='english')\n",
    "    X = vect.fit_transform(sample['description'])\n",
    "    # compute cosine similarity for a toy example\n",
    "    from sklearn.metrics.pairwise import cosine_similarity\n",
    "    sim = cosine_similarity(X[:50], X[:50])  # small sample for quick compute\n",
    "    print(\"Similarity matrix shape:\", sim.shape)\n",
    "    # You can expand this to full dataset if memory allows\n"
   ]
  },
  {
   "cell_type": "markdown",
   "id": "0b975aac",
   "metadata": {},
   "source": [
    "## 4) Deliverables & Suggestions\n",
    "- Save cleaned data to `netflix_cleaned.csv`\n",
    "- Create visualizations as PNGs and include them in the PDF report\n",
    "- Optional: Build a small Flask app to serve recommendations\n"
   ]
  }
 ],
 "metadata": {},
 "nbformat": 4,
 "nbformat_minor": 5
}
